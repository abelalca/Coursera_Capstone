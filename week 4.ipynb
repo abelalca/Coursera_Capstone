{
 "cells": [
  {
   "cell_type": "markdown",
   "metadata": {},
   "source": [
    "<h1>Introduction</h1>\n",
    "\n",
    "Carol wants to open her Burger Joint in some Locality (District) of Bogotá, Colombia. To aim this goal, she would like to have an analysis where she can find the best allocation for her new business. For this reason, she is asking our help in finding the best Locality in Bogota.\n",
    "\n",
    "<h3>Business Problem</h3>\n",
    "In order to open Carol's burger joint, we will have the need to use some information about the Localities in Bogotá. We must be sure that the place where the burger joint is opened will have enough customers and also that there aren't a large amount of burger joints in the place. For this reason, we need to analyze different scenarios in the area to make sure that the restaurant will be successful in the area. We are going to try to avoid others Burger Joint in the area and we are looking for a area where there are:\n",
    "\n",
    "- Schools\n",
    "- Universities\n",
    "- Offices\n",
    "\n",
    "For this project we are mainly concerned with the area around Bogota to setup a Burger Joint to ensure maximum profitability for Carol's new business."
   ]
  },
  {
   "cell_type": "markdown",
   "metadata": {},
   "source": [
    "<h1>Data</h1>\n",
    "\n",
    "To help Carol in her search we will need to access following data:\n",
    "\n",
    "The Localities of Bogotá, Colombia from Wikipedia: https://es.wikipedia.org/wiki/Anexo:Localidades_de_Bogot%C3%A1\n",
    "\n",
    "From the table above, we are going to extra the data to build our analysis.\n",
    "\n",
    "The coordinates (latitude, longitude) to these Localities of Bogotá from Open Street Map APIs. And we are going to work with this type of maps to identify our venues locations:\n",
    "image.png\n",
    "\n",
    "From Foursquare we will need following venues data:\n",
    "- the burger joint venues of the Localities\n",
    "- the offices venues of the Localities\n",
    "- the high schools venues of the Localities\n",
    "- the universities venues of the Localities\n",
    "We will then leverage the data in order to determine which locality is the most appropriate in order to locate the burger joint."
   ]
  }
 ],
 "metadata": {
  "kernelspec": {
   "display_name": "Python 3",
   "language": "python",
   "name": "python3"
  },
  "language_info": {
   "codemirror_mode": {
    "name": "ipython",
    "version": 3
   },
   "file_extension": ".py",
   "mimetype": "text/x-python",
   "name": "python",
   "nbconvert_exporter": "python",
   "pygments_lexer": "ipython3",
   "version": "3.7.0"
  }
 },
 "nbformat": 4,
 "nbformat_minor": 2
}
